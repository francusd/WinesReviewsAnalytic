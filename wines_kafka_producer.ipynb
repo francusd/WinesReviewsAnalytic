{
 "cells": [
  {
   "cell_type": "markdown",
   "id": "faf2b9b2-4b56-4581-a647-5ceb0cb57104",
   "metadata": {},
   "source": [
    "## PROYECTO FINAL \n",
    "### UTP / MAESTRIA: ANALITICA DE DATOS\n",
    "#### MATERIA: BIG DATA\n",
    "##### ELABORADO POR: FRANCISCO D. TUDISCO"
   ]
  },
  {
   "cell_type": "markdown",
   "id": "bdbe4d63-826b-408c-95ee-8470b9b1e923",
   "metadata": {},
   "source": [
    "## KAFKA"
   ]
  },
  {
   "cell_type": "code",
   "execution_count": 19,
   "id": "5a060aba-2fa6-47a0-9def-75498c6f6c61",
   "metadata": {},
   "outputs": [
    {
     "name": "stdout",
     "output_type": "stream",
     "text": [
      "(30, 12)\n"
     ]
    }
   ],
   "source": [
    "import pandas as pd \n",
    "\n",
    "\n",
    "x=pd.read_csv('/home/ubuntu/projectfinal_env/wines_italy.csv')\n",
    "z=x.head(30)\n",
    "z.to_csv('/home/ubuntu/projectfinal_env/wines_italy_reducido.csv')\n",
    "print(z.shape)"
   ]
  },
  {
   "cell_type": "markdown",
   "id": "916155c7-1a0d-4f1e-a883-0c5c3f1be5a8",
   "metadata": {},
   "source": [
    "### PRODUCER"
   ]
  },
  {
   "cell_type": "code",
   "execution_count": 20,
   "id": "82c1856b-71bf-411a-bd76-b05790a7877e",
   "metadata": {},
   "outputs": [
    {
     "name": "stdout",
     "output_type": "stream",
     "text": [
      "✅ Enviando evento: {'': '0', 'Unnamed: 0': '5', 'country': 'Italy', 'description': \"Here's a bright, informal red that opens with aromas of candied berry, white pepper and savory herb that carry over to the palate. It's balanced with fresh acidity and soft tannins.\", 'designation': 'Belsito', 'Points': '87.0', 'price': '16.0', 'province': 'Sicily & Sardinia', 'region_1': 'Vittoria', 'region_2': '', 'variety': 'Frappato', 'winery': 'Terre di Giurfo', 'Prices': '16.0', 'sent_timestamp': '2025-07-28T02:28:30.562509'}\n",
      "✅ Enviando evento: {'': '1', 'Unnamed: 0': '20', 'country': 'Italy', 'description': 'Delicate aromas recall white flower and citrus. The palate offers passion fruit, lime and white peach with a hint of mineral alongside bright acidity.', 'designation': 'Ficiligno', 'Points': '87.0', 'price': '19.0', 'province': 'Sicily & Sardinia', 'region_1': 'Sicilia', 'region_2': '', 'variety': 'White Blend', 'winery': 'Baglio di Pianetto', 'Prices': '19.0', 'sent_timestamp': '2025-07-28T02:28:31.667919'}\n",
      "✅ Enviando evento: {'': '2', 'Unnamed: 0': '22', 'country': 'Italy', 'description': 'Aromas of prune, blackcurrant, toast and oak carry through to the extracted palate, along with flavors of black cherry and roasted coffee beans. Firm but drying tannins provide the framework.', 'designation': 'Aynat', 'Points': '87.0', 'price': '35.0', 'province': 'Sicily & Sardinia', 'region_1': 'Sicilia', 'region_2': '', 'variety': \"Nero d'Avola\", 'winery': 'Canicattì', 'Prices': '35.0', 'sent_timestamp': '2025-07-28T02:28:32.669588'}\n",
      "✅ Enviando evento: {'': '3', 'Unnamed: 0': '24', 'country': 'Italy', 'description': 'Pretty aromas of yellow flower and stone fruit lead the nose. The bright palate offers yellow apple, apricot, vanilla and delicate notes of lightly toasted oak alongside crisp acidity.', 'designation': 'Dalila', 'Points': '87.0', 'price': '13.0', 'province': 'Sicily & Sardinia', 'region_1': 'Terre Siciliane', 'region_2': '', 'variety': 'White Blend', 'winery': 'Stemmari', 'Prices': '13.0', 'sent_timestamp': '2025-07-28T02:28:33.671212'}\n",
      "✅ Enviando evento: {'': '4', 'Unnamed: 0': '25', 'country': 'Italy', 'description': 'Aromas recall ripe dark berry, toast and a whiff of cake spice. The soft, informal palate offers sour cherry, vanilla and a hint of espresso alongside round tannins. Drink soon.', 'designation': '', 'Points': '87.0', 'price': '10.0', 'province': 'Sicily & Sardinia', 'region_1': 'Terre Siciliane', 'region_2': '', 'variety': \"Nero d'Avola\", 'winery': 'Stemmari', 'Prices': '10.0', 'sent_timestamp': '2025-07-28T02:28:34.672593'}\n",
      "✅ Enviando evento: {'': '5', 'Unnamed: 0': '26', 'country': 'Italy', 'description': 'Aromas suggest mature berry, scorched earth, animal, toast and anise. The palate offers ripe black berry, oak, espresso, cocoa and vanilla alongside dusty tannins.', 'designation': 'Mascaria Barricato', 'Points': '87.0', 'price': '17.0', 'province': 'Sicily & Sardinia', 'region_1': 'Cerasuolo di Vittoria', 'region_2': '', 'variety': 'Red Blend', 'winery': 'Terre di Giurfo', 'Prices': '17.0', 'sent_timestamp': '2025-07-28T02:28:35.674711'}\n",
      "✅ Enviando evento: {'': '6', 'Unnamed: 0': '32', 'country': 'Italy', 'description': 'This concentrated Cabernet offers aromas of cured meat, dried fruit and rosemary. Barbecue spice and teriyaki sauce flavors give the wine a bold, chewy feel.', 'designation': 'Missoni', 'Points': '86.0', 'price': '21.0', 'province': 'Sicily & Sardinia', 'region_1': 'Sicilia', 'region_2': '', 'variety': 'Cabernet Sauvignon', 'winery': 'Feudi del Pisciotto', 'Prices': '21.0', 'sent_timestamp': '2025-07-28T02:28:36.676689'}\n",
      "✅ Enviando evento: {'': '7', 'Unnamed: 0': '33', 'country': 'Italy', 'description': 'Inky in color, this wine has plump aromas of ripe fruit, blackberry jam and rum cake. On the palate, it is soft and smooth.', 'designation': 'I Tratturi', 'Points': '86.0', 'price': '11.0', 'province': 'Southern Italy', 'region_1': 'Puglia', 'region_2': '', 'variety': 'Primitivo', 'winery': 'Feudi di San Marzano', 'Prices': '11.0', 'sent_timestamp': '2025-07-28T02:28:37.677767'}\n",
      "✅ Enviando evento: {'': '8', 'Unnamed: 0': '34', 'country': 'Italy', 'description': 'Part of the natural wine movement, this wine is made from organic grapes, and the label is printed with vegetable ink on recycled paper. The quality of fruit is very nice, with a juicy palate and a bright berry flavor on the finish.', 'designation': 'Purato Made With Organic Grapes', 'Points': '86.0', 'price': '12.0', 'province': 'Sicily & Sardinia', 'region_1': 'Sicilia', 'region_2': '', 'variety': \"Nero d'Avola\", 'winery': 'Feudo di Santa Tresa', 'Prices': '12.0', 'sent_timestamp': '2025-07-28T02:28:38.679680'}\n",
      "✅ Enviando evento: {'': '9', 'Unnamed: 0': '35', 'country': 'Italy', 'description': \"Catarratto is one of Sicily's most widely farmed white grape varieties. This expression shows a mineral note, backed by citrus and almond blossom touches.\", 'designation': '', 'Points': '86.0', 'price': '17.0', 'province': 'Sicily & Sardinia', 'region_1': 'Sicilia', 'region_2': '', 'variety': 'Catarratto', 'winery': 'Feudo Montoni', 'Prices': '17.0', 'sent_timestamp': '2025-07-28T02:28:39.681680'}\n",
      "✅ Enviando evento: {'': '10', 'Unnamed: 0': '41', 'country': 'Italy', 'description': 'Spicy, fresh and clean, this would pair with fried seafood or spaghetti con vongole. It offers pretty citrus tones followed by a drying mineral nuance.', 'designation': 'Sallier de la Tour', 'Points': '86.0', 'price': '13.0', 'province': 'Sicily & Sardinia', 'region_1': 'Sicilia', 'region_2': '', 'variety': 'Inzolia', 'winery': \"Tasca d'Almerita\", 'Prices': '13.0', 'sent_timestamp': '2025-07-28T02:28:40.683587'}\n",
      "✅ Enviando evento: {'': '11', 'Unnamed: 0': '46', 'country': 'Italy', 'description': 'The Monica grape often shows a rustic or raw quality, with aromas of cherry cola, black pepper and sour fruit. This expression does just that, with an added touch of bright acidity on the finish.', 'designation': 'Dolia', 'Points': '85.0', 'price': '14.0', 'province': 'Sicily & Sardinia', 'region_1': 'Monica di Sardegna', 'region_2': '', 'variety': 'Monica', 'winery': 'Cantine di Dolianova', 'Prices': '14.0', 'sent_timestamp': '2025-07-28T02:28:41.685378'}\n",
      "✅ Enviando evento: {'': '12', 'Unnamed: 0': '50', 'country': 'Italy', 'description': \"There's a touch of toasted almond at the start, but then this Grillo revs up in the glass to deliver notes of citrus, stone fruit, crushed stone and lemon tart. The mouthfeel is crisp and simple.\", 'designation': 'Sallier de la Tour', 'Points': '85.0', 'price': '13.0', 'province': 'Sicily & Sardinia', 'region_1': 'Sicilia', 'region_2': '', 'variety': 'Grillo', 'winery': \"Tasca d'Almerita\", 'Prices': '13.0', 'sent_timestamp': '2025-07-28T02:28:42.687238'}\n",
      "✅ Enviando evento: {'': '13', 'Unnamed: 0': '54', 'country': 'Italy', 'description': 'This densely hued wine has aromas of black plum and vanilla that carry over to the simple palate along with a touch of cedar. Pliant tannins give it an easygoing nature. Drink soon.', 'designation': 'Prugneto', 'Points': '86.0', 'price': '17.0', 'province': 'Central Italy', 'region_1': 'Romagna', 'region_2': '', 'variety': 'Sangiovese', 'winery': 'Podere dal Nespoli', 'Prices': '17.0', 'sent_timestamp': '2025-07-28T02:28:43.689161'}\n",
      "✅ Enviando evento: {'': '14', 'Unnamed: 0': '65', 'country': 'Italy', 'description': 'Aromas of black-skinned fruit, leather, underbrush, game and a briny note all carry over to the lean, somewhat disjointed palate along with suggestions of licorice and raw red cherry. Grainy tannins leave a drying finish.', 'designation': 'Daginestra', 'Points': '86.0', 'price': '32.0', 'province': 'Southern Italy', 'region_1': 'Aglianico del Vulture', 'region_2': '', 'variety': 'Aglianico', 'winery': 'Grifalco', 'Prices': '32.0', 'sent_timestamp': '2025-07-28T02:28:44.691211'}\n",
      "✅ Enviando evento: {'': '15', 'Unnamed: 0': '80', 'country': 'Italy', 'description': \"Subdued aromas of French oak, toast and acacia waft out of the glass. The rather lean palate offers oak-driven spice, chopped herb and a hint of citrus set against racy acidity. It's rather shy on fruit richness.\", 'designation': 'Le Mandorle Riserva', 'Points': '86.0', 'price': '29.0', 'province': 'Tuscany', 'region_1': 'Vernaccia di San Gimignano', 'region_2': '', 'variety': 'Vernaccia', 'winery': 'Poggio Alloro', 'Prices': '29.0', 'sent_timestamp': '2025-07-28T02:28:45.693046'}\n",
      "✅ Enviando evento: {'': '16', 'Unnamed: 0': '81', 'country': 'Italy', 'description': 'Made primarily from Sangiovese, with some Malvasia and other white grapes, this offers aromas of red berry and a yeasty whiff of bread dough. The bright, enjoyable palate offers ripe cherry and hint of pastry cream while a note of honeydew melon marks the close.', 'designation': '', 'Points': '88.0', 'price': '19.0', 'province': 'Tuscany', 'region_1': 'Toscana', 'region_2': '', 'variety': 'Rosato', 'winery': 'Fattoria Sardi', 'Prices': '19.0', 'sent_timestamp': '2025-07-28T02:28:46.694971'}\n",
      "✅ Enviando evento: {'': '17', 'Unnamed: 0': '90', 'country': 'Italy', 'description': 'Forest floor, menthol, espresso, cranberry and pressed violet aromas take shape in the glass. The lean linear palate shows dried sour cherry, licorice and coffee bean alongside assertive close-grained tannins. Even though the tannins are still firm, drink sooner rather than later to capture the remaining fruit.', 'designation': 'Dono Riserva', 'Points': '88.0', 'price': '30.0', 'province': 'Tuscany', 'region_1': 'Morellino di Scansano', 'region_2': '', 'variety': 'Sangiovese', 'winery': 'Serpaia di Endrizzi', 'Prices': '30.0', 'sent_timestamp': '2025-07-28T02:28:47.696303'}\n",
      "✅ Enviando evento: {'': '18', 'Unnamed: 0': '96', 'country': 'Italy', 'description': 'Made with 65% Sangiovese, 20% Merlot and 15% Cabernet Sauvignon, this has subtle aromas of black-skinned fruit and thyme. The easygoing palate delivers black cherry and cinnamon alongside smooth tannins.', 'designation': 'Nativo', 'Points': '87.0', 'price': '16.0', 'province': 'Tuscany', 'region_1': 'Toscana', 'region_2': '', 'variety': 'Red Blend', 'winery': 'Madonna Alta', 'Prices': '16.0', 'sent_timestamp': '2025-07-28T02:28:48.697865'}\n",
      "✅ Enviando evento: {'': '19', 'Unnamed: 0': '97', 'country': 'Italy', 'description': 'Made predominantly with Trebbiano and Malvasia, along with Pinot Bianco, Pinot Grigio and Riesling Renano, this has inviting aromas of ripe orchard fruit and citrus. The round fruity palate doles out ripe apricot, orange zest and juicy pineapple.', 'designation': 'Villa Antinori', 'Points': '87.0', 'price': '14.0', 'province': 'Tuscany', 'region_1': 'Toscana', 'region_2': '', 'variety': 'White Blend', 'winery': 'Marchesi Antinori', 'Prices': '14.0', 'sent_timestamp': '2025-07-28T02:28:49.699855'}\n",
      "✅ Enviando evento: {'': '20', 'Unnamed: 0': '98', 'country': 'Italy', 'description': 'A blend of Cabernet Sauvignon, Merlot, Cabernet Franc and Sangiovese, this pleasant red has aromas of dark-skinned fruit, toast and a whiff of espresso. The light-bodied, straightforward palate offers cherry, red currant and a hint of light spice alongside zesty acidity and polished tannins.', 'designation': 'Castiglioni', 'Points': '87.0', 'price': '30.0', 'province': 'Tuscany', 'region_1': 'Toscana', 'region_2': '', 'variety': 'Red Blend', 'winery': \"Marchesi de' Frescobaldi\", 'Prices': '30.0', 'sent_timestamp': '2025-07-28T02:28:50.701697'}\n",
      "✅ Enviando evento: {'': '21', 'Unnamed: 0': '99', 'country': 'Italy', 'description': 'Aromas of yellow stone fruit, white spring flower and a whiff of citrus lift out of the glass. The soft round palate offers ripe apricot, yellow peach and a hint of candied nectarine zest.', 'designation': 'Ammiraglia Massovivo', 'Points': '87.0', 'price': '18.0', 'province': 'Tuscany', 'region_1': 'Toscana', 'region_2': '', 'variety': 'Vermentino', 'winery': \"Marchesi de' Frescobaldi\", 'Prices': '18.0', 'sent_timestamp': '2025-07-28T02:28:51.703870'}\n",
      "✅ Enviando evento: {'': '22', 'Unnamed: 0': '101', 'country': 'Italy', 'description': 'An easy-drinking blend of Merlot, Sangiovese and Cabernet Sauvignon, this opens with aromas of red berry, toast, herb and roasted coffee bean. The soft palate offers black cherry, mocha and a hint of coffee alongside bright acidity and silky tannins. Drink now.', 'designation': 'Le Volte', 'Points': '87.0', 'price': '30.0', 'province': 'Tuscany', 'region_1': 'Toscana', 'region_2': '', 'variety': 'Red Blend', 'winery': 'Ornellaia', 'Prices': '30.0', 'sent_timestamp': '2025-07-28T02:28:52.705927'}\n",
      "✅ Enviando evento: {'': '23', 'Unnamed: 0': '104', 'country': 'Italy', 'description': 'Made with 90% Merlot and 10% Alicante, this easygoing red opens with delicate aromas suggesting red currant and baking spice. The straightforward palate delivers red plum and clove alongside soft tannins. Enjoy soon.', 'designation': 'Semifonte', 'Points': '87.0', 'price': '15.0', 'province': 'Tuscany', 'region_1': 'Toscana', 'region_2': '', 'variety': 'Red Blend', 'winery': 'Podere Ciona', 'Prices': '15.0', 'sent_timestamp': '2025-07-28T02:28:53.707358'}\n",
      "✅ Enviando evento: {'': '24', 'Unnamed: 0': '105', 'country': 'Italy', 'description': 'Made with Vermentino, Malvasia di Candia Aromatica and Petit Manseng, this easy-drinking white has aromas of fragrant white wild flower, citrus and white stone fruit. The ripe round palate offers apricot, lime and a hint of saline.', 'designation': 'Poetico', 'Points': '87.0', 'price': '19.0', 'province': 'Tuscany', 'region_1': 'Toscana', 'region_2': '', 'variety': 'White Blend', 'winery': 'Poggioventoso', 'Prices': '19.0', 'sent_timestamp': '2025-07-28T02:28:54.709255'}\n",
      "✅ Enviando evento: {'': '25', 'Unnamed: 0': '110', 'country': 'Italy', 'description': 'A blend of 50% Cabernet Sauvignon, 30% Merlot and 20% Sangiovese, this offers aromas of black currant, caramel and mocha. The dense palate delivers toast, leather and cedar alongside teeth-coating tannins that grip the finish.', 'designation': 'Toscano', 'Points': '87.0', 'price': '80.0', 'province': 'Tuscany', 'region_1': 'Toscana', 'region_2': '', 'variety': 'Red Blend', 'winery': 'Tenuta Forconi', 'Prices': '80.0', 'sent_timestamp': '2025-07-28T02:28:55.711473'}\n",
      "✅ Enviando evento: {'': '26', 'Unnamed: 0': '112', 'country': 'Italy', 'description': 'Slightly backward, particularly given the vintage, the wine has a complex nose with plenty of dark fruit, Turkish delight, smoked meat and earth. A full rich palate, slightly soft, it begins to run out of steam a little in mid palate, but returns with a flourish, and the finish is long and nuanced. Will repay 5+ years of cellaring.', 'designation': 'Bricco Rocche Prapó', 'Points': '92.0', 'price': '70.0', 'province': 'Piedmont', 'region_1': 'Barolo', 'region_2': '', 'variety': 'Nebbiolo', 'winery': 'Ceretto', 'Prices': '70.0', 'sent_timestamp': '2025-07-28T02:28:56.713339'}\n",
      "✅ Enviando evento: {'': '27', 'Unnamed: 0': '122', 'country': 'Italy', 'description': 'At the first it was quite muted and subdued, but over a ten minute period it developed beautifully in the glass. The dark fruit is still dominant, but it is beginning to show some interesting tertiary aromas of earth, mushrooms and leather. Well balanced with a medium finish. Needs a few more years, but can be enjoyed now with a good deal of pleasure.', 'designation': 'Bricco Rocche Brunate', 'Points': '91.0', 'price': '70.0', 'province': 'Piedmont', 'region_1': 'Barolo', 'region_2': '', 'variety': 'Nebbiolo', 'winery': 'Ceretto', 'Prices': '70.0', 'sent_timestamp': '2025-07-28T02:28:57.715433'}\n",
      "✅ Enviando evento: {'': '28', 'Unnamed: 0': '125', 'country': 'Italy', 'description': \"Einaudi's wines have been improving lately, and this Barolo was very impressive, given the trying conditions of the vintage. Big rich, fat with smoked meat and a good dose of oak, the wine was one of the few that didn't peter out early but stayed on the palate to the end, culminating in an nice easy finish.\", 'designation': '', 'Points': '91.0', 'price': '68.0', 'province': 'Piedmont', 'region_1': 'Barolo', 'region_2': '', 'variety': 'Nebbiolo', 'winery': 'Poderi Luigi Einaudi', 'Prices': '68.0', 'sent_timestamp': '2025-07-28T02:28:58.717005'}\n",
      "✅ Enviando evento: {'': '29', 'Unnamed: 0': '127', 'country': 'Italy', 'description': 'The color is just beginning to show signs of browning at the edge, but the wine is still fresh and vibrant. The nose is complex, showing licorice, summer fruits, caramel and roses. On the palate, it is soft and pleasant, but lacks some concentration.  At its peak, but will drink well for a few years.', 'designation': 'Sorano', 'Points': '91.0', 'price': '60.0', 'province': 'Piedmont', 'region_1': 'Barolo', 'region_2': '', 'variety': 'Nebbiolo', 'winery': 'Giacomo Ascheri', 'Prices': '60.0', 'sent_timestamp': '2025-07-28T02:28:59.718051'}\n",
      "✅ Todos los eventos han sido enviados.\n"
     ]
    }
   ],
   "source": [
    "# Productor Kafka de signos vitales\n",
    "import csv\n",
    "import json\n",
    "import time\n",
    "from kafka import KafkaProducer\n",
    "from datetime import datetime\n",
    "import random\n",
    "\n",
    "# Configurar productor Kafka\n",
    "producer = KafkaProducer(\n",
    "    bootstrap_servers='localhost:9092',\n",
    "    value_serializer=lambda v: json.dumps(v).encode('utf-8')\n",
    ")\n",
    "\n",
    "# Lectura del dataset\n",
    "TOPIC = 'test'  # Usamos el tópico existente\n",
    "CSV_FILE = '/home/ubuntu/projectfinal_env/wines_italy_reducido.csv'\n",
    "    \n",
    "# Leer y enviar eventos desde CSV\n",
    "with open(CSV_FILE, newline='') as csvfile:\n",
    "    reader = csv.DictReader(csvfile)\n",
    "    for row in reader:\n",
    "        event = row\n",
    "        event[\"sent_timestamp\"] = datetime.utcnow().isoformat()\n",
    "\n",
    "        print(f\"✅ Enviando evento: {event}\")\n",
    "        producer.send(TOPIC, value=event)\n",
    "        time.sleep(1)\n",
    "\n",
    "producer.flush()\n",
    "producer.close()\n",
    "print(\"✅ Todos los eventos han sido enviados.\")\n"
   ]
  },
  {
   "cell_type": "code",
   "execution_count": null,
   "id": "4fd2bec6-cf54-43f7-ab2b-41ab28f74b85",
   "metadata": {},
   "outputs": [],
   "source": []
  }
 ],
 "metadata": {
  "kernelspec": {
   "display_name": "Python 3 (ipykernel)",
   "language": "python",
   "name": "python3"
  },
  "language_info": {
   "codemirror_mode": {
    "name": "ipython",
    "version": 3
   },
   "file_extension": ".py",
   "mimetype": "text/x-python",
   "name": "python",
   "nbconvert_exporter": "python",
   "pygments_lexer": "ipython3",
   "version": "3.10.12"
  }
 },
 "nbformat": 4,
 "nbformat_minor": 5
}
