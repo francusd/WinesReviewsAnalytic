{
 "cells": [
  {
   "cell_type": "markdown",
   "id": "f388891e-49ea-4495-9f67-d78842b2573d",
   "metadata": {},
   "source": [
    "## PROYECTO FINAL \n",
    "### UTP / MAESTRIA: ANALITICA DE DATOS\n",
    "#### MATERIA: BIG DATA\n",
    "##### ELABORADO POR: FRANCISCO D. TUDISCO"
   ]
  },
  {
   "cell_type": "markdown",
   "id": "7a7c81f7-3cf8-4d8c-abfa-a2b0ef80b160",
   "metadata": {
    "jp-MarkdownHeadingCollapsed": true
   },
   "source": [
    "### INFORMACION SOBRE EL SERVIDOR"
   ]
  },
  {
   "cell_type": "code",
   "execution_count": null,
   "id": "55819019-4de0-459e-9391-66052d73a060",
   "metadata": {},
   "outputs": [],
   "source": [
    "from cassandra.cluster import Cluster\n",
    "from cassandra.auth import PlainTextAuthProvider\n",
    "\n",
    "# Optional: Set up authentication if needed\n",
    "# auth_provider = PlainTextAuthProvider('your_username', 'your_password')\n",
    "# cluster = Cluster(['127.0.0.1'], auth_provider=auth_provider)\n",
    "\n",
    "# If no auth:\n",
    "cluster = Cluster(['127.0.0.1'])\n",
    "\n",
    "# Connect to session\n",
    "session = cluster.connect('system')  # Replace with your keyspace name\n",
    "\n",
    "# Execute a query\n",
    "try:\n",
    "    rows = session.execute('SELECT * FROM system.local;')\n",
    "\n",
    "    print(\"Results:\")\n",
    "    for row in rows:\n",
    "        print(row)\n",
    "\n",
    "except Exception as e:\n",
    "    print(\"Error during query:\", e)\n",
    "\n",
    "finally:\n",
    "    cluster.shutdown()\n"
   ]
  },
  {
   "cell_type": "markdown",
   "id": "570b79b6-7a58-4382-9ec1-c953da4bb24f",
   "metadata": {
    "jp-MarkdownHeadingCollapsed": true
   },
   "source": [
    "### CREACION ESTRUCTURA DB CASSANDRA"
   ]
  },
  {
   "cell_type": "code",
   "execution_count": null,
   "id": "4014197c-a277-466a-a29f-43c9ff6893f8",
   "metadata": {},
   "outputs": [],
   "source": [
    "from cassandra.cluster import Cluster\n",
    "\n",
    "KEYSPACE = \"projectofinal\"\n",
    "TABLE = \"wines_reviews\"\n",
    "\n",
    "# Connect to Cassandra\n",
    "cluster = Cluster([\"127.0.0.1\"])\n",
    "session = cluster.connect()\n",
    "\n",
    "# Create keyspace if not exists\n",
    "session.execute(f\"\"\"\n",
    "    CREATE KEYSPACE IF NOT EXISTS {KEYSPACE}\n",
    "    WITH REPLICATION = {{ 'class': 'SimpleStrategy', 'replication_factor': 1 }}\n",
    "\"\"\")\n",
    "\n",
    "# Use the keyspace\n",
    "session.set_keyspace(KEYSPACE)\n",
    "\n",
    "# Create table if not exists\n",
    "session.execute(f\"\"\"\n",
    "    CREATE TABLE IF NOT EXISTS {TABLE} (\n",
    "        ID UUID PRIMARY KEY,\n",
    "        country TEXT,\n",
    "        description TEXT,\n",
    "        designation TEXT,\n",
    "        points DOUBLE,\n",
    "        province TEXT,\n",
    "        region_1 TEXT,\n",
    "        region_2 TEXT,\n",
    "        variety TEXT,\n",
    "        winery TEXT,\n",
    "        prices DOUBLE\n",
    ")\n",
    "\"\"\")\n",
    "\n",
    "print(\"✅ Keyspace and table created successfully!\")\n",
    "\n",
    "cluster.shutdown()\n"
   ]
  },
  {
   "cell_type": "markdown",
   "id": "1a9c5919-b692-437e-b2be-37bdb50603d2",
   "metadata": {
    "jp-MarkdownHeadingCollapsed": true
   },
   "source": [
    "### ELIMINAR TABLA"
   ]
  },
  {
   "cell_type": "code",
   "execution_count": null,
   "id": "e7746791-7e6f-4725-a7ae-889328ac5694",
   "metadata": {},
   "outputs": [],
   "source": [
    "from cassandra.cluster import Cluster\n",
    "\n",
    "KEYSPACE = \"projectofinal\"\n",
    "TABLE = \"wines_reviews\"\n",
    "\n",
    "# Connect to Cassandra\n",
    "cluster = Cluster([\"127.0.0.1\"])\n",
    "session = cluster.connect()\n",
    "\n",
    "# Use the keyspace\n",
    "session.set_keyspace(KEYSPACE)\n",
    "\n",
    "# Create table if not exists\n",
    "session.execute(f\"\"\"\n",
    "    DROP TABLE {TABLE}\n",
    "\"\"\")\n",
    "\n",
    "print(\"✅ table is droped successfully!\")\n",
    "\n",
    "cluster.shutdown()"
   ]
  },
  {
   "cell_type": "markdown",
   "id": "b2efec33-45fc-4a7a-a899-3fab672c17ea",
   "metadata": {
    "jp-MarkdownHeadingCollapsed": true
   },
   "source": [
    "### PYSPARK CASSANDRA "
   ]
  },
  {
   "cell_type": "code",
   "execution_count": null,
   "id": "e589935e-083b-4393-912b-2feb4bea04ba",
   "metadata": {},
   "outputs": [],
   "source": [
    "from cassandra.cluster import Cluster\n",
    "from cassandra.auth import PlainTextAuthProvider\n",
    "\n",
    "# Optional: Set up authentication if needed\n",
    "# auth_provider = PlainTextAuthProvider('your_username', 'your_password')\n",
    "# cluster = Cluster(['127.0.0.1'], auth_provider=auth_provider)\n",
    "\n",
    "# If no auth:\n",
    "cluster = Cluster(['127.0.0.1'])\n",
    "\n",
    "# Connect to session\n",
    "session = cluster.connect('projectofinal')  # Replace with your keyspace name\n",
    "\n",
    "# Execute a query\n",
    "try:\n",
    "    rows = session.execute('DESCRIBE TABLES;')\n",
    "\n",
    "    print(\"ENLISTA LAS TABLAS DEL KEYSPACE: 'projectofinal'\")\n",
    "    for row in rows:\n",
    "        print(row)\n",
    "    print()\n",
    "except Exception as e:\n",
    "    print(\"Error during query:\", e)\n",
    "\n",
    "finally:\n",
    "    cluster.shutdown()"
   ]
  },
  {
   "cell_type": "markdown",
   "id": "ad2e9ba5-633d-4671-956a-381ac08aa486",
   "metadata": {
    "jp-MarkdownHeadingCollapsed": true
   },
   "source": [
    "### DISPLAY DATOS: RESEÑA VINOS "
   ]
  },
  {
   "cell_type": "code",
   "execution_count": null,
   "id": "3a0f948b-fc7f-4db9-8a7d-63d8f84898f7",
   "metadata": {},
   "outputs": [],
   "source": [
    "\n",
    "from pyspark.sql.functions import *\n",
    "from pyspark.sql.functions import regexp_extract\n",
    "from pyspark.sql.functions import col\n",
    "from pyspark.ml.stat import Correlation\n",
    "\n",
    "from cassandra.cluster import Cluster\n",
    "from cassandra.auth import PlainTextAuthProvider\n",
    "import pandas as pd \n",
    "\n",
    "# Optional: Set up authentication if needed\n",
    "# auth_provider = PlainTextAuthProvider('your_username', 'your_password')\n",
    "# cluster = Cluster(['127.0.0.1'], auth_provider=auth_provider)\n",
    "\n",
    "# If no auth:\n",
    "cluster = Cluster(['127.0.0.1'])\n",
    "\n",
    "# Connect to session\n",
    "session = cluster.connect('projectofinal')  # Replace with your keyspace name\n",
    "\n",
    "# Execute a query\n",
    "try:\n",
    "    rows = session.execute('SELECT * FROM wines_reviews')\n",
    "\n",
    "    print(\"Results:\")\n",
    "    for row in rows:\n",
    "        print(row)\n",
    "        df = pd.DataFrame(rows)\n",
    "    print(df.head())\n",
    "except Exception as e:\n",
    "    print(\"Error during query:\", e)\n",
    "\n",
    "finally:\n",
    "    cluster.shutdown()\n"
   ]
  },
  {
   "cell_type": "markdown",
   "id": "ca0397ed-e2ff-40c5-9767-4cae2ddaa598",
   "metadata": {},
   "source": [
    "### INSERCION DE DATOS"
   ]
  },
  {
   "cell_type": "code",
   "execution_count": 12,
   "id": "ded34f25-c224-4875-8c99-932911d3a345",
   "metadata": {},
   "outputs": [],
   "source": [
    "import uuid\n",
    "from cassandra.cluster import Cluster\n",
    "from cassandra.auth import PlainTextAuthProvider\n",
    "from pyspark.sql import SparkSession\n",
    "from pyspark.sql.functions import col, format_number\n",
    "\n",
    "# 1. Initialize Spark\n",
    "spark = SparkSession.builder \\\n",
    "    .appName(\"TestApp\") \\\n",
    "    .getOrCreate()\n",
    "\n",
    "# 2. Connect to Cassandra\n",
    "cluster = Cluster(['127.0.0.1'])\n",
    "session = cluster.connect('projectofinal')\n"
   ]
  },
  {
   "cell_type": "code",
   "execution_count": 13,
   "id": "281e3613-54a9-480b-90f5-731db9a1968c",
   "metadata": {},
   "outputs": [
    {
     "name": "stderr",
     "output_type": "stream",
     "text": [
      "25/07/28 18:45:41 WARN CSVHeaderChecker: CSV header does not conform to the schema.\n",
      " Header: , country, description, designation, points, price, province, region_1, region_2, taster_name, taster_twitter_handle, title, variety, winery\n",
      " Schema: _c0, country, description, designation, points, price, province, region_1, region_2, taster_name, taster_twitter_handle, title, variety, winery\n",
      "Expected: _c0 but found: \n",
      "CSV file: file:///home/ubuntu/projectfinal_env/winemag-data-130k-v2.csv\n"
     ]
    },
    {
     "data": {
      "text/plain": [
       "[Row(country='Italy', description=\"Aromas include tropical fruit, broom, brimstone and dried herb. The palate isn't overly expressive, offering unripened apple, citrus and dried sage alongside brisk acidity.\", designation='Vulkà Bianco', points='87', price=None, province='Sicily & Sardinia', region_1='Etna', region_2=None, variety='White Blend', winery='Nicosia'),\n",
       " Row(country='Portugal', description=\"This is ripe and fruity, a wine that is smooth while still structured. Firm tannins are filled out with juicy red berry fruits and freshened with acidity. It's  already drinkable, although it will certainly be better from 2016.\", designation='Avidagos', points='87', price='15.0', province='Douro', region_1=None, region_2=None, variety='Portuguese Red', winery='Quinta dos Avidagos'),\n",
       " Row(country='US', description='Tart and snappy, the flavors of lime flesh and rind dominate. Some green pineapple pokes through, with crisp acidity underscoring the flavors. The wine was all stainless-steel fermented.', designation=None, points='87', price='14.0', province='Oregon', region_1='Willamette Valley', region_2='Willamette Valley', variety='Pinot Gris', winery='Rainstorm')]"
      ]
     },
     "execution_count": 13,
     "metadata": {},
     "output_type": "execute_result"
    }
   ],
   "source": [
    "#datos #1 Reseñas de Vinos\n",
    "data1 = spark.read.csv('/home/ubuntu/projectfinal_env/winemag-data-130k-v2.csv', header=True, \n",
    "                    inferSchema=False,quote='\"',escape='\"',multiLine=True) \n",
    "col=['country','description','designation','points','price','province','region_1','region_2','variety','winery']\n",
    "df1_filtered=data1[col]\n",
    "df1_filtered.head(3)"
   ]
  },
  {
   "cell_type": "code",
   "execution_count": 14,
   "id": "761e0ed5-cfab-4fbd-ad57-4f3ef363d29b",
   "metadata": {},
   "outputs": [
    {
     "name": "stderr",
     "output_type": "stream",
     "text": [
      "25/07/28 18:45:45 WARN CSVHeaderChecker: CSV header does not conform to the schema.\n",
      " Header: , country, description, designation, points, price, province, region_1, region_2, variety, winery\n",
      " Schema: _c0, country, description, designation, points, price, province, region_1, region_2, variety, winery\n",
      "Expected: _c0 but found: \n",
      "CSV file: file:///home/ubuntu/projectfinal_env/winemag-data-150k.csv\n"
     ]
    },
    {
     "data": {
      "text/plain": [
       "[Row(country='US', description='This tremendous 100% varietal wine hails from Oakville and was aged over three years in oak. Juicy red-cherry fruit and a compelling hint of caramel greet the palate, framed by elegant, fine tannins and a subtle minty tone in the background. Balanced and rewarding from start to finish, it has years ahead of it to develop further nuance. Enjoy 2022–2030.', designation=\"Martha's Vineyard\", points='96', price='235.0', province='California', region_1='Napa Valley', region_2='Napa', variety='Cabernet Sauvignon', winery='Heitz'),\n",
       " Row(country='Spain', description='Ripe aromas of fig, blackberry and cassis are softened and sweetened by a slathering of oaky chocolate and vanilla. This is full, layered, intense and cushioned on the palate, with rich flavors of chocolaty black fruits and baking spices. A toasty, everlasting finish is heady but ideally balanced. Drink through 2023.', designation='Carodorum Selección Especial Reserva', points='96', price='110.0', province='Northern Spain', region_1='Toro', region_2=None, variety='Tinta de Toro', winery='Bodega Carmen Rodríguez'),\n",
       " Row(country='US', description='Mac Watson honors the memory of a wine once made by his mother in this tremendously delicious, balanced and complex botrytised white. Dark gold in color, it layers toasted hazelnut, pear compote and orange peel flavors, reveling in the succulence of its 122 g/L of residual sugar.', designation='Special Selected Late Harvest', points='96', price='90.0', province='California', region_1='Knights Valley', region_2='Sonoma', variety='Sauvignon Blanc', winery='Macauley')]"
      ]
     },
     "execution_count": 14,
     "metadata": {},
     "output_type": "execute_result"
    }
   ],
   "source": [
    "#datos #2 Reseñas de Vinos\n",
    "data2=spark.read.csv('/home/ubuntu/projectfinal_env/winemag-data-150k.csv', header=True, \n",
    "                    inferSchema=False,quote='\"',escape='\"',multiLine=True) \n",
    "col=['country','description','designation','points','price','province','region_1','region_2','variety','winery']\n",
    "df2_filtered=data2[col]\n",
    "df2_filtered.head(3)"
   ]
  },
  {
   "cell_type": "code",
   "execution_count": 15,
   "id": "952619f3-30cd-46f4-8e91-3f136e7ca140",
   "metadata": {},
   "outputs": [
    {
     "name": "stderr",
     "output_type": "stream",
     "text": [
      "25/07/28 18:45:47 WARN CSVHeaderChecker: CSV header does not conform to the schema.\n",
      " Header: , country, description, designation, points, price, province, region_1, region_2, taster_name, taster_twitter_handle, title, variety, winery\n",
      " Schema: _c0, country, description, designation, points, price, province, region_1, region_2, taster_name, taster_twitter_handle, title, variety, winery\n",
      "Expected: _c0 but found: \n",
      "CSV file: file:///home/ubuntu/projectfinal_env/winemag-data-130k-v2.csv\n"
     ]
    },
    {
     "data": {
      "text/html": [
       "<style type=\"text/css\">\n",
       "#T_98bc4 th {\n",
       "  text-align: left;\n",
       "}\n",
       "#T_98bc4_row0_col0, #T_98bc4_row0_col1, #T_98bc4_row0_col2, #T_98bc4_row0_col3, #T_98bc4_row0_col4, #T_98bc4_row0_col5, #T_98bc4_row0_col6, #T_98bc4_row0_col7, #T_98bc4_row0_col8, #T_98bc4_row0_col9, #T_98bc4_row1_col0, #T_98bc4_row1_col1, #T_98bc4_row1_col2, #T_98bc4_row1_col3, #T_98bc4_row1_col4, #T_98bc4_row1_col5, #T_98bc4_row1_col6, #T_98bc4_row1_col7, #T_98bc4_row1_col8, #T_98bc4_row1_col9, #T_98bc4_row2_col0, #T_98bc4_row2_col1, #T_98bc4_row2_col2, #T_98bc4_row2_col3, #T_98bc4_row2_col4, #T_98bc4_row2_col5, #T_98bc4_row2_col6, #T_98bc4_row2_col7, #T_98bc4_row2_col8, #T_98bc4_row2_col9, #T_98bc4_row3_col0, #T_98bc4_row3_col1, #T_98bc4_row3_col2, #T_98bc4_row3_col3, #T_98bc4_row3_col4, #T_98bc4_row3_col5, #T_98bc4_row3_col6, #T_98bc4_row3_col7, #T_98bc4_row3_col8, #T_98bc4_row3_col9, #T_98bc4_row4_col0, #T_98bc4_row4_col1, #T_98bc4_row4_col2, #T_98bc4_row4_col3, #T_98bc4_row4_col4, #T_98bc4_row4_col5, #T_98bc4_row4_col6, #T_98bc4_row4_col7, #T_98bc4_row4_col8, #T_98bc4_row4_col9 {\n",
       "  text-align: left;\n",
       "  white-space: pre-wrap;\n",
       "}\n",
       "</style>\n",
       "<table id=\"T_98bc4\">\n",
       "  <thead>\n",
       "    <tr>\n",
       "      <th class=\"blank level0\" >&nbsp;</th>\n",
       "      <th id=\"T_98bc4_level0_col0\" class=\"col_heading level0 col0\" >country</th>\n",
       "      <th id=\"T_98bc4_level0_col1\" class=\"col_heading level0 col1\" >description</th>\n",
       "      <th id=\"T_98bc4_level0_col2\" class=\"col_heading level0 col2\" >designation</th>\n",
       "      <th id=\"T_98bc4_level0_col3\" class=\"col_heading level0 col3\" >Points</th>\n",
       "      <th id=\"T_98bc4_level0_col4\" class=\"col_heading level0 col4\" >prices</th>\n",
       "      <th id=\"T_98bc4_level0_col5\" class=\"col_heading level0 col5\" >province</th>\n",
       "      <th id=\"T_98bc4_level0_col6\" class=\"col_heading level0 col6\" >region_1</th>\n",
       "      <th id=\"T_98bc4_level0_col7\" class=\"col_heading level0 col7\" >region_2</th>\n",
       "      <th id=\"T_98bc4_level0_col8\" class=\"col_heading level0 col8\" >variety</th>\n",
       "      <th id=\"T_98bc4_level0_col9\" class=\"col_heading level0 col9\" >winery</th>\n",
       "    </tr>\n",
       "  </thead>\n",
       "  <tbody>\n",
       "    <tr>\n",
       "      <th id=\"T_98bc4_level0_row0\" class=\"row_heading level0 row0\" >0</th>\n",
       "      <td id=\"T_98bc4_row0_col0\" class=\"data row0 col0\" >Italy</td>\n",
       "      <td id=\"T_98bc4_row0_col1\" class=\"data row0 col1\" >Aromas include tropical fruit, broom, brimstone and dried herb. The palate isn't overly expressive, offering unripened apple, citrus and dried sage alongside brisk acidity.</td>\n",
       "      <td id=\"T_98bc4_row0_col2\" class=\"data row0 col2\" >Vulkà Bianco</td>\n",
       "      <td id=\"T_98bc4_row0_col3\" class=\"data row0 col3\" >87.00</td>\n",
       "      <td id=\"T_98bc4_row0_col4\" class=\"data row0 col4\" >None</td>\n",
       "      <td id=\"T_98bc4_row0_col5\" class=\"data row0 col5\" >Sicily & Sardinia</td>\n",
       "      <td id=\"T_98bc4_row0_col6\" class=\"data row0 col6\" >Etna</td>\n",
       "      <td id=\"T_98bc4_row0_col7\" class=\"data row0 col7\" >None</td>\n",
       "      <td id=\"T_98bc4_row0_col8\" class=\"data row0 col8\" >White Blend</td>\n",
       "      <td id=\"T_98bc4_row0_col9\" class=\"data row0 col9\" >Nicosia</td>\n",
       "    </tr>\n",
       "    <tr>\n",
       "      <th id=\"T_98bc4_level0_row1\" class=\"row_heading level0 row1\" >1</th>\n",
       "      <td id=\"T_98bc4_row1_col0\" class=\"data row1 col0\" >Portugal</td>\n",
       "      <td id=\"T_98bc4_row1_col1\" class=\"data row1 col1\" >This is ripe and fruity, a wine that is smooth while still structured. Firm tannins are filled out with juicy red berry fruits and freshened with acidity. It's  already drinkable, although it will certainly be better from 2016.</td>\n",
       "      <td id=\"T_98bc4_row1_col2\" class=\"data row1 col2\" >Avidagos</td>\n",
       "      <td id=\"T_98bc4_row1_col3\" class=\"data row1 col3\" >87.00</td>\n",
       "      <td id=\"T_98bc4_row1_col4\" class=\"data row1 col4\" >15.00</td>\n",
       "      <td id=\"T_98bc4_row1_col5\" class=\"data row1 col5\" >Douro</td>\n",
       "      <td id=\"T_98bc4_row1_col6\" class=\"data row1 col6\" >None</td>\n",
       "      <td id=\"T_98bc4_row1_col7\" class=\"data row1 col7\" >None</td>\n",
       "      <td id=\"T_98bc4_row1_col8\" class=\"data row1 col8\" >Portuguese Red</td>\n",
       "      <td id=\"T_98bc4_row1_col9\" class=\"data row1 col9\" >Quinta dos Avidagos</td>\n",
       "    </tr>\n",
       "    <tr>\n",
       "      <th id=\"T_98bc4_level0_row2\" class=\"row_heading level0 row2\" >2</th>\n",
       "      <td id=\"T_98bc4_row2_col0\" class=\"data row2 col0\" >US</td>\n",
       "      <td id=\"T_98bc4_row2_col1\" class=\"data row2 col1\" >Tart and snappy, the flavors of lime flesh and rind dominate. Some green pineapple pokes through, with crisp acidity underscoring the flavors. The wine was all stainless-steel fermented.</td>\n",
       "      <td id=\"T_98bc4_row2_col2\" class=\"data row2 col2\" >None</td>\n",
       "      <td id=\"T_98bc4_row2_col3\" class=\"data row2 col3\" >87.00</td>\n",
       "      <td id=\"T_98bc4_row2_col4\" class=\"data row2 col4\" >14.00</td>\n",
       "      <td id=\"T_98bc4_row2_col5\" class=\"data row2 col5\" >Oregon</td>\n",
       "      <td id=\"T_98bc4_row2_col6\" class=\"data row2 col6\" >Willamette Valley</td>\n",
       "      <td id=\"T_98bc4_row2_col7\" class=\"data row2 col7\" >Willamette Valley</td>\n",
       "      <td id=\"T_98bc4_row2_col8\" class=\"data row2 col8\" >Pinot Gris</td>\n",
       "      <td id=\"T_98bc4_row2_col9\" class=\"data row2 col9\" >Rainstorm</td>\n",
       "    </tr>\n",
       "    <tr>\n",
       "      <th id=\"T_98bc4_level0_row3\" class=\"row_heading level0 row3\" >3</th>\n",
       "      <td id=\"T_98bc4_row3_col0\" class=\"data row3 col0\" >US</td>\n",
       "      <td id=\"T_98bc4_row3_col1\" class=\"data row3 col1\" >Pineapple rind, lemon pith and orange blossom start off the aromas. The palate is a bit more opulent, with notes of honey-drizzled guava and mango giving way to a slightly astringent, semidry finish.</td>\n",
       "      <td id=\"T_98bc4_row3_col2\" class=\"data row3 col2\" >Reserve Late Harvest</td>\n",
       "      <td id=\"T_98bc4_row3_col3\" class=\"data row3 col3\" >87.00</td>\n",
       "      <td id=\"T_98bc4_row3_col4\" class=\"data row3 col4\" >13.00</td>\n",
       "      <td id=\"T_98bc4_row3_col5\" class=\"data row3 col5\" >Michigan</td>\n",
       "      <td id=\"T_98bc4_row3_col6\" class=\"data row3 col6\" >Lake Michigan Shore</td>\n",
       "      <td id=\"T_98bc4_row3_col7\" class=\"data row3 col7\" >None</td>\n",
       "      <td id=\"T_98bc4_row3_col8\" class=\"data row3 col8\" >Riesling</td>\n",
       "      <td id=\"T_98bc4_row3_col9\" class=\"data row3 col9\" >St. Julian</td>\n",
       "    </tr>\n",
       "    <tr>\n",
       "      <th id=\"T_98bc4_level0_row4\" class=\"row_heading level0 row4\" >4</th>\n",
       "      <td id=\"T_98bc4_row4_col0\" class=\"data row4 col0\" >US</td>\n",
       "      <td id=\"T_98bc4_row4_col1\" class=\"data row4 col1\" >Much like the regular bottling from 2012, this comes across as rather rough and tannic, with rustic, earthy, herbal characteristics. Nonetheless, if you think of it as a pleasantly unfussy country wine, it's a good companion to a hearty winter stew.</td>\n",
       "      <td id=\"T_98bc4_row4_col2\" class=\"data row4 col2\" >Vintner's Reserve Wild Child Block</td>\n",
       "      <td id=\"T_98bc4_row4_col3\" class=\"data row4 col3\" >87.00</td>\n",
       "      <td id=\"T_98bc4_row4_col4\" class=\"data row4 col4\" >65.00</td>\n",
       "      <td id=\"T_98bc4_row4_col5\" class=\"data row4 col5\" >Oregon</td>\n",
       "      <td id=\"T_98bc4_row4_col6\" class=\"data row4 col6\" >Willamette Valley</td>\n",
       "      <td id=\"T_98bc4_row4_col7\" class=\"data row4 col7\" >Willamette Valley</td>\n",
       "      <td id=\"T_98bc4_row4_col8\" class=\"data row4 col8\" >Pinot Noir</td>\n",
       "      <td id=\"T_98bc4_row4_col9\" class=\"data row4 col9\" >Sweet Cheeks</td>\n",
       "    </tr>\n",
       "  </tbody>\n",
       "</table>\n"
      ],
      "text/plain": [
       "<pandas.io.formats.style.Styler at 0x72555a97e050>"
      ]
     },
     "execution_count": 15,
     "metadata": {},
     "output_type": "execute_result"
    }
   ],
   "source": [
    "# Unificacion de los dataset\n",
    "df =df1_filtered.union(df2_filtered)\n",
    "\n",
    "df = df.withColumn(\"Prices\", df['price'].cast(\"float\"))\n",
    "df = df.withColumn(\"Points\", df['points'].cast(\"float\"))\n",
    "\n",
    "df = df.withColumn(\"Points\", format_number(\"Points\", 2))\n",
    "df = df.withColumn(\"Prices\", format_number(\"Prices\", 2))\n",
    "#df = df.drop(\"_c0\",'price')\n",
    "#df = df.withColumnRenamed(\"Prices\", \"prices\")\n",
    "#columna = [\"country\",\"description\",\"designation\",\"Points\",\"prices\",\"province\",\"region_1\",\"region_2\",\"variety\",\"winery\"]\n",
    "df= df.select(columna)\n",
    "\n",
    "df.limit(5).toPandas().style.set_properties(**{\n",
    "    'text-align': 'left',\n",
    "    'white-space': 'pre-wrap'\n",
    "}).set_table_styles([{\n",
    "    'selector': 'th',\n",
    "    'props': [('text-align', 'left')]\n",
    "}])\n"
   ]
  },
  {
   "cell_type": "code",
   "execution_count": 3,
   "id": "fe96231b-722c-4dd9-a8e5-e8a99ddffc0a",
   "metadata": {},
   "outputs": [
    {
     "name": "stderr",
     "output_type": "stream",
     "text": [
      "WARNING: Using incubator modules: jdk.incubator.vector\n",
      "Using Spark's default log4j profile: org/apache/spark/log4j2-defaults.properties\n",
      "Setting default log level to \"WARN\".\n",
      "To adjust logging level use sc.setLogLevel(newLevel). For SparkR, use setLogLevel(newLevel).\n",
      "25/07/28 13:12:51 WARN NativeCodeLoader: Unable to load native-hadoop library for your platform... using builtin-java classes where applicable\n",
      "25/07/28 13:12:52 WARN Utils: Service 'SparkUI' could not bind on port 4040. Attempting port 4041.\n",
      "25/07/28 13:12:58 WARN CSVHeaderChecker: CSV header does not conform to the schema.\n",
      " Header: , country, description, designation, Points, price, province, region_1, region_2, variety, winery, Prices\n",
      " Schema: _c0, country, description, designation, Points, price, province, region_1, region_2, variety, winery, Prices\n",
      "Expected: _c0 but found: \n",
      "CSV file: file:///home/ubuntu/projectfinal_env/wines_reviews_final.csv\n",
      "                                                                                "
     ]
    },
    {
     "name": "stdout",
     "output_type": "stream",
     "text": [
      "✅ Inserción completada en Cassandra.\n",
      "✅ Conexión a Cassandra cerrada.\n"
     ]
    }
   ],
   "source": [
    "\n",
    "try:\n",
    "    # 3. Load CSV into Spark DataFrame\n",
    "    data1 = spark.read.csv(\n",
    "        '/home/ubuntu/projectfinal_env/wines_reviews_final.csv',\n",
    "        header=True,\n",
    "        inferSchema=False,\n",
    "        quote='\"',\n",
    "        escape='\"',\n",
    "        multiLine=True\n",
    "    )\n",
    "\n",
    "    # 4. Prepare insert statement for Cassandra\n",
    "    insert_stmt = session.prepare(\"\"\"\n",
    "        INSERT INTO wines_reviews (\n",
    "            id, country, description, designation,\n",
    "            points, prices, province, region_1, region_2, variety, winery\n",
    "        ) VALUES (?, ?, ?, ?, ?, ?, ?, ?, ?, ?, ?)\n",
    "    \"\"\")\n",
    "\n",
    "    # 5. Iterate through DataFrame rows and insert into Cassandra\n",
    "    for row in data1.collect():\n",
    "        # Convert string to appropriate types\n",
    "        try:\n",
    "            points = float(row['Points']) if row['Points'] else None\n",
    "            prices = float(row['Prices']) if row['Prices'] else None\n",
    "        except:\n",
    "            points = None\n",
    "            prices = None\n",
    "\n",
    "        session.execute(\n",
    "            insert_stmt,\n",
    "            (\n",
    "                uuid.uuid4(),                      # id\n",
    "                row['country'],                    # country\n",
    "                row['description'],                # description\n",
    "                row['designation'],                # designation\n",
    "                points,                            # points\n",
    "                prices,                            # prices\n",
    "                row['province'],                   # province\n",
    "                row['region_1'],                   # region_1\n",
    "                row['region_2'],                   # region_2\n",
    "                row['variety'],                    # variety\n",
    "                row['winery']                      # winery\n",
    "            )\n",
    "        )\n",
    "\n",
    "    print(\"✅ Inserción completada en Cassandra.\")\n",
    "\n",
    "except Exception as e:\n",
    "    print(\"❌ Error during query or insertion:\", e)\n",
    "\n",
    "finally:\n",
    "    cluster.shutdown()\n",
    "    print(\"✅ Conexión a Cassandra cerrada.\")\n"
   ]
  },
  {
   "cell_type": "markdown",
   "id": "280f2f57-102f-4fa2-8dfe-805602e47063",
   "metadata": {},
   "source": [
    "#### Validacion"
   ]
  },
  {
   "cell_type": "code",
   "execution_count": null,
   "id": "948aedc8-d253-4dd1-a8d8-a96f3ab9ef8d",
   "metadata": {},
   "outputs": [],
   "source": [
    "    data1 = spark.read.csv(\n",
    "        '/home/ubuntu/projectfinal_env/wines_reviews_final.csv',\n",
    "        header=True,\n",
    "        inferSchema=False,\n",
    "        quote='\"',\n",
    "        escape='\"',\n",
    "        multiLine=True\n",
    "    )\n",
    "data1.toPandas().shape"
   ]
  },
  {
   "cell_type": "code",
   "execution_count": null,
   "id": "7e084a79-ef83-47cc-8f23-ff06758794b8",
   "metadata": {},
   "outputs": [],
   "source": []
  }
 ],
 "metadata": {
  "kernelspec": {
   "display_name": "Python 3 (ipykernel)",
   "language": "python",
   "name": "python3"
  },
  "language_info": {
   "codemirror_mode": {
    "name": "ipython",
    "version": 3
   },
   "file_extension": ".py",
   "mimetype": "text/x-python",
   "name": "python",
   "nbconvert_exporter": "python",
   "pygments_lexer": "ipython3",
   "version": "3.10.12"
  }
 },
 "nbformat": 4,
 "nbformat_minor": 5
}
